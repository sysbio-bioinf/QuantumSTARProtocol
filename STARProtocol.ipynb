{
 "cells": [
  {
   "cell_type": "markdown",
   "id": "75079d5a",
   "metadata": {},
   "source": [
    "### Install all required packages for running the notebook"
   ]
  },
  {
   "cell_type": "code",
   "execution_count": null,
   "id": "eb4473e8",
   "metadata": {},
   "outputs": [],
   "source": [
    "%pip install qiskit==0.42.1\n",
    "%pip install amazon-braket-sdk==1.37.1\n",
    "%pip install tweedledum==1.1.1\n",
    "%pip install qiskit-ibm-runtime==0.9.3\n",
    "%pip install pylatexenc==2.10"
   ]
  },
  {
   "cell_type": "markdown",
   "id": "4dbb2d36",
   "metadata": {},
   "source": [
    "### Load required functions and libraries"
   ]
  },
  {
   "cell_type": "code",
   "execution_count": null,
   "id": "58a82951",
   "metadata": {},
   "outputs": [],
   "source": [
    "from functionsForProtocol import *\n",
    "from qiskit_ibm_runtime import QiskitRuntimeService, Sampler, Session, Options\n",
    "import matplotlib.pyplot as plt"
   ]
  },
  {
   "cell_type": "markdown",
   "id": "0cd5ad2a",
   "metadata": {},
   "source": [
    "### Loading Boolean network rules to build the circuit"
   ]
  },
  {
   "cell_type": "code",
   "execution_count": null,
   "id": "c47d02ed",
   "metadata": {},
   "outputs": [],
   "source": [
    "rulestxt = \"./networks/Giacomantonio2010.txt\""
   ]
  },
  {
   "cell_type": "markdown",
   "id": "6f0508c1",
   "metadata": {},
   "source": [
    "This function call parses the Boolean rules provided in the rulestxt file into quantum circuits, creating a new *networkname*_rulefile.py file in the process.\n",
    "A single circuit for performing 'Tmax' consecutive synchronous state transitions is created from this.\n",
    "The circuit is initialized with Hadamard gates, meaning the system starts in a uniform superposition of all $2^n$ states.\n",
    "A total of 'nrshots' shots are performed on a statevector simulator.\n",
    "Shots indicate repeated initializations, runs, and measurements of the circuit, thus building up a probability distribution of measurement outcomes.\n",
    "The *quantumStateTransition()* function can take on further arguments which will be used for other types of dynamic analyses, as will be explained in the corresponding cells below."
   ]
  },
  {
   "cell_type": "code",
   "execution_count": null,
   "id": "bfe638e0",
   "metadata": {},
   "outputs": [],
   "source": [
    "#Visualizing the quantum circuit for performing a single state transition\n",
    "#returnCircuitOnly=True will return only the quantum circuit object from quantumStateTransition() without performing any measurements\n",
    "transitionCircuitVisualization = quantumStateTransition(rulestxt, Tmax=1, returnCircuitOnly=True)\n",
    "transitionCircuitVisualization.draw(output='mpl')"
   ]
  },
  {
   "cell_type": "markdown",
   "id": "75a63149",
   "metadata": {},
   "source": [
    "### Simulate repeated quantum state transitions, convergence to attractor superposition"
   ]
  },
  {
   "cell_type": "code",
   "execution_count": null,
   "id": "d906f017",
   "metadata": {},
   "outputs": [],
   "source": [
    "CorticalNet4Transitions = quantumStateTransition(rulestxt, Tmax=4, nrshots=1000)\n",
    "print(CorticalNet4Transitions)"
   ]
  },
  {
   "cell_type": "markdown",
   "id": "bd6f4ea0",
   "metadata": {},
   "source": [
    "This function call returned the network's classical attractor distribution of the states 10010 (classically 87.5%) and 01101 (classically 12.5%).\n",
    "Results may vary slightly due to the randomness of measurements.\n",
    "After 4 transitions, each of the 32 possible states will have reached an attractor. This transient time will differ for each particular network and generally scales linearly with the number of network components n for biological networks (see Aldana, Physica D 185 (2003), Boolean dynamics of networks with scale-free topology)."
   ]
  },
  {
   "cell_type": "markdown",
   "id": "45ae4ddd",
   "metadata": {},
   "source": [
    "### Use mock backends to mimick the noise profiles of real QPUs\n",
    "As before, the quantumStateTransition() function call parses the Boolean rules into a quantum circuit performing Tmax consecutive state transitions.\n",
    "However, here the 'backend' argument is used to specify an 'fake' mock backend whose noise characteristics are applied to the statevector simulator.\n",
    "The circuit is transpiled to the set of gates available on the specified backend. The argument optimization_level aims to optimize this transpilation process and takes values from 0 to 3, indicating increasing amounts of circuit optimization.\n",
    "The use of such fake backends may give a more realistic estimate of the expected accuracy of a quantum circuit when compared to a noiseless simulator.\n",
    "It also does not require access to a physical QPU. It thus saves the associated cost of sending tasks to a real device."
   ]
  },
  {
   "cell_type": "code",
   "execution_count": null,
   "id": "5febcd67",
   "metadata": {},
   "outputs": [],
   "source": [
    "from qiskit.providers.fake_provider import FakeToronto\n",
    "backend = FakeToronto()\n",
    "CorticalNet_noisySimulatorTransition = quantumStateTransition(rulestxt, Tmax=1, nrshots=1000, backend=backend,\n",
    "                                                              optimization_level=3, returnCircuitDepth=True)\n",
    "print(CorticalNet_noisySimulatorTransition)\n",
    "\n",
    "#Calculate fidelity as implemented in qiskit, compare single noisy to single exact transition\n",
    "from qiskit.quantum_info import hellinger_fidelity\n",
    "CorticalNet_ExactTransition = quantumStateTransition(rulestxt, Tmax=1, nrshots=1000)\n",
    "print(\"Fidelity of noisy transition relative to exact simulator:\")\n",
    "print(hellinger_fidelity(CorticalNet_ExactTransition, CorticalNet_noisySimulatorTransition))\n",
    "\n",
    "#Implementation of normalized fidelity measure as described in Weidner et al.\n",
    "#Overlap of output that is equivalent to overlap with a uniform (i.e. maximally noisy) distribution is considered as a fidelity of 0.\n",
    "print(\"Normalized fidelity measure:\")\n",
    "print(normalized_fidelity(idealDistr=CorticalNet_ExactTransition, outputDistr=CorticalNet_noisySimulatorTransition))"
   ]
  },
  {
   "cell_type": "markdown",
   "id": "576a7500",
   "metadata": {},
   "source": [
    "### Visualization of outcomes between noiseless and noisy simulation\n",
    "Run the cell above to generate CorticalNet_ExactTransition and CorticalNet_noisySimulatorTransition"
   ]
  },
  {
   "cell_type": "code",
   "execution_count": null,
   "id": "8d4be6a3",
   "metadata": {},
   "outputs": [],
   "source": [
    "#Generate a barplot visualizing the dictionaries containing the measurement probabilities of an exact and noisy simulation of a quantum state transition\n",
    "barWidth = 0.15\n",
    "# set heights of bars (y values to plot)\n",
    "bars0 = probdict2list(CorticalNet_ExactTransition)\n",
    "bars1 = probdict2list(CorticalNet_noisySimulatorTransition)\n",
    "# Set position of bar on X axis\n",
    "r0 = np.arange(len(bars0))\n",
    "r1 = [x + barWidth for x in r0]\n",
    "fig, ax = plt.subplots()\n",
    "fig.set_size_inches(w=10, h=5.5)\n",
    "ax.bar(r0, bars0, color='black', width=barWidth, edgecolor='white', label='Exact simulation')\n",
    "ax.bar(r1, bars1, color='red', width=barWidth, edgecolor='white', label='Noisy simulation')\n",
    "ax.set_ylabel(\"Probability\", fontsize=18)\n",
    "# Add xticks on the middle of the group bars\n",
    "ax.set_xlabel('State', fontsize=18)\n",
    "ax.set_title(\"Exact and noisy simulation of a quantum state transition\", fontsize=15)\n",
    "ax.set_yticks([0.0,0.1,0.2,0.3,0.4,0.5,0.6,0.7,0.8,0.9,1])\n",
    "ax.legend(framealpha=1, loc=\"upper right\", fontsize=15)\n",
    "ax.grid(color='gray', linestyle='dashed', axis='y', alpha=0.5)\n",
    "ax.set_xticks(list(range(0,32)))\n",
    "ax.xaxis.set_ticklabels([\"00000\", \"00001\", \"00010\", \"00011\", \"00100\",\n",
    "               \"00101\", \"00110\", \"00111\", \"01000\", \"01001\",\n",
    "               \"01010\", \"01011\", \"01100\", \"01101\", \"01110\",\n",
    "               \"01111\", \"10000\", \"10001\", \"10010\", \"10011\",\n",
    "               \"10100\", \"10101\", \"10110\", \"10111\", \"11000\",\n",
    "               \"11001\", \"11010\", \"11011\", \"11100\", \"11101\",\n",
    "               \"11110\", \"11111\"], rotation=75, ha=\"center\")\n",
    "plt.ylim(0,0.5)\n",
    "plt.show()"
   ]
  },
  {
   "cell_type": "markdown",
   "id": "4589ccf1",
   "metadata": {},
   "source": [
    "### Tune activity biases in initial superposition state\n",
    "In a circuit implementing forward state transitions, the initial Hadamard gates can be replaced with tunable $R_y(\\theta)$ gates.\n",
    "These parameters $\\theta$ are specified via the initActivities argument, and can be specified as thetatype \"angle\" or \"radian\".\n",
    "Biasing the initial state of the first gene in the network with $\\theta=0°$ leads to the exploration of the subspace of the state transition graph\n",
    "of size $2^{n-1}$ where this gene is inactive. Values in the range $0° < \\theta < 90°$ will explore the full state space,\n",
    "but return different probabilities than a classical simulation as the initial states now no longer have equal amplitudes of $1/2^n$, but are biased towards inactivation of the modified gene's initial state. Likewise, values of $90° < \\theta < 180°$ result in a bias of state amplitudes towards the gene being active.\n",
    "In this manner, specific subspaces of biologically plausible activity ranges for multiple genes can be explored\n",
    "which may shift attractor probabilities or leave them unchanged. Thus, the sensitivity or lack of response of the phenotypical landscape towards particular genes activity can be quantified.\n",
    "This analysis is implementable by modifying only a single layer of gates in the circuit's initialization."
   ]
  },
  {
   "cell_type": "code",
   "execution_count": null,
   "id": "007b9a64",
   "metadata": {},
   "outputs": [],
   "source": [
    "#Variation in first gene Fgf8\n",
    "thetavalues = list(range(0,190,10)) #vary angle from 0° to 180°\n",
    "for theta in thetavalues:\n",
    "    print(\"Gate used for initialising the first gene is R_y(theta = \" + str(theta) + \"°)\")\n",
    "    ThetaVariationGiacomantonio = quantumStateTransition(rulestxt, Tmax=4, nrshots=1000,\n",
    "                                       initActivities=[theta,90,90,90,90], initPerturbed=None, returnCircuitOnly=False,\n",
    "                                       thetatype=\"angle\")\n",
    "    print(ThetaVariationGiacomantonio)\n",
    "\n",
    "#10010 is the only attractor when Fgf8 is initialised with theta=0 -> Fgf8(t=0) = |0>\n",
    "#The probability of 01101 increases as Fgf8 initial activity gradually increases\n",
    "# -> The entire 16-state XXXX0 subspace leads to only one attractor"
   ]
  },
  {
   "cell_type": "markdown",
   "id": "23eb5633",
   "metadata": {},
   "source": [
    "### Simultaneous analysis of knockouts and overexpressions using superposition perturbations\n",
    "As before, the initialization of gene activities can be tuned via $R_y(\\theta)$ gates.\n",
    "Additionally, the boolean vector initPertubed specifies if a gene should be perturbed using this initial superposition state.\n",
    "For those values that are set 'True', the same initial (possibly biased) superposition state created by the $R_y(\\theta)$ rotation will be re-used for that gene after every quantum state transition.\n",
    "This is equivalent to simultaneously performing an overexpression (OE) and a knockout (KO) simulation for classical perturbations of this network component.\n",
    "Multiple components can be perturbed in this manner. For values $0° < \\theta < 90°$ the attractors obtained from a knockout simulation will appear\n",
    "with a proportionately larger probability, likewise for the attractors obtained from an overexpression perturbation for $90° < \\theta < 180°$.\n",
    "Here, single and double superposition perturbations are performed.\n",
    "The former returns the attractors from a KO and OE of the third component Pax6. The latter returns the union set of all four possible double perturbations of Pax6 and Coup_tfi (i.e KO+KO, KO+OE, OE+KO, OE+OE) with the attractors weight being determined both by their basin sizes in the perturbed system as well as the initial biases of the chosen superposition state."
   ]
  },
  {
   "cell_type": "code",
   "execution_count": null,
   "id": "27222b6d",
   "metadata": {},
   "outputs": [],
   "source": [
    "SingleSuperpositionPerturbation = quantumStateTransition(rulestxt, Tmax=4, nrshots=1000,\n",
    "                                   initActivities=[90,90,135,90,90], initPerturbed=[False, False, True, False, False], thetatype=\"angle\")\n",
    "print(\"Single superposition perturbation of Pax6, biased towards OE:\")\n",
    "print(SingleSuperpositionPerturbation)\n",
    "\n",
    "print(\"Double superposition perturbation of Pax6 and Coup_tfi, biased towards OE and KO respectively:\")\n",
    "DoubleSuperpositionPerturbation = quantumStateTransition(rulestxt, Tmax=4, nrshots=1000,\n",
    "                                   initActivities=[90,90,135,90,45], initPerturbed=[False, False, True, False, True], thetatype=\"angle\")\n",
    "print(DoubleSuperpositionPerturbation)"
   ]
  },
  {
   "cell_type": "markdown",
   "id": "24e66db9",
   "metadata": {},
   "source": [
    "### Using amplitude amplification to invert dynamics and identify predecessor states\n",
    "This function call creates a circuit implementing multiple iterations $G$ of a Grover Oracle and Diffuser operator.\n",
    "The marked attractor state 01101 is the solution element. The oracle operator includes the inverse circuit of the boolean state transition logic. The algorithm thus amplifies all predecessor states of the markedState (including this state itself if it is a fixed-point attractor).\n",
    "That is, it effectly performs nrTransitions 'inverse' state transitions.\n",
    "The amount by which the probability of the predecessor states is amplified depends on the number of iterations. This value does not increase monotonically with repeated iterations. The algorithm instead has a sinusoidal performance.\n",
    "The optimal value for $G$ depends on the number of predecessor states, which can be determined via quantum counting as shown below."
   ]
  },
  {
   "cell_type": "code",
   "execution_count": null,
   "id": "473f5de2",
   "metadata": {},
   "outputs": [],
   "source": [
    "from qiskit_aer import Aer\n",
    "from qiskit import execute\n",
    "#Probability are rounded to 3 digits in resulting dictionaries\n",
    "\n",
    "print(\"G=1 iteration:\")\n",
    "InvertedTransitionsCircuit_G1 = generate_groverSTGinversion_circuit(rulestxt, nrTransitions=2, markedState=[0,1,1,0,1], G=1)\n",
    "result_G1 = execute(InvertedTransitionsCircuit_G1, backend=Aer.get_backend('qasm_simulator'), shots=1000).result()\n",
    "countDict_G1 = outputformat(result_G1.get_counts(InvertedTransitionsCircuit_G1), normalizeOutput=True, sortOutput=True, digits=3)\n",
    "print(countDict_G1)\n",
    "solution_prob_G1 = countDict_G1[\"11001\"] + countDict_G1[\"01001\"] + countDict_G1[\"01101\"] + countDict_G1[\"11101\"]\n",
    "print(\"After G=1 iteration, the M/N=4/32 solution states have a cumulative probability of \" + str(solution_prob_G1) + \".\")\n",
    "\n",
    "print(\"G=2 iterations:\")\n",
    "InvertedTransitionsCircuit_G2 = generate_groverSTGinversion_circuit(rulestxt, nrTransitions=2, markedState=[0,1,1,0,1], G=2)\n",
    "result_G2 = execute(InvertedTransitionsCircuit_G2, backend=Aer.get_backend('qasm_simulator'), shots=1000).result()\n",
    "countDict_G2 = outputformat(result_G2.get_counts(InvertedTransitionsCircuit_G2), normalizeOutput=True, sortOutput=True, digits=3)\n",
    "print(countDict_G2)\n",
    "solution_prob_G2 = countDict_G2[\"11001\"] + countDict_G2[\"01001\"] + countDict_G2[\"01101\"] + countDict_G2[\"11101\"]\n",
    "print(\"After G=2 iterations, the M/N=4/32 solution states have a cumulative probability of \" + str(solution_prob_G2) + \".\")\n",
    "\n",
    "print(\"G=3 iterations:\")\n",
    "InvertedTransitionsCircuit_G3 = generate_groverSTGinversion_circuit(rulestxt, nrTransitions=2, markedState=[0,1,1,0,1], G=3)\n",
    "result_G3 = execute(InvertedTransitionsCircuit_G3, backend=Aer.get_backend('qasm_simulator'), shots=1000).result()\n",
    "countDict_G3 = outputformat(result_G3.get_counts(InvertedTransitionsCircuit_G3), normalizeOutput=True, sortOutput=True, digits=3)\n",
    "print(countDict_G3)\n",
    "solution_prob_G3 = countDict_G3[\"11001\"] + countDict_G3[\"01001\"] + countDict_G3[\"01101\"] + countDict_G3[\"11101\"]\n",
    "print(\"After G=3 iterations, the M/N=4/32 solution states have a cumulative probability of \" + str(solution_prob_G3) + \".\")"
   ]
  },
  {
   "cell_type": "markdown",
   "id": "93f2f38c",
   "metadata": {},
   "source": [
    "### Quantum counting to estimate the number of solutions M\n",
    "Performs a quantum counting algorithm, combining the Grover operator with a quantum Fourier transform on a separate register of readout qubits\n",
    "of r_registerLen qubits. The bitstrings of resulting measurements now no longer indicate particular network states, but instead are integer\n",
    "encodings for the total number $M$ of predecessors of the marked states.\n",
    "E.g. the state 00000 has $M=14$ predecessors while the basin of the 01101 attractor has a size of $M=4$, requiring two inverted transitions."
   ]
  },
  {
   "cell_type": "code",
   "execution_count": null,
   "id": "6cc31935",
   "metadata": {},
   "outputs": [],
   "source": [
    "CountingResults_00000_Tinv1 = QuantumCountingAlgo(rulestxt, nrTransitions=1, markedState=[0,0,0,0,0],\n",
    "                                                  r_registerLen=5, nrshots = 1000)\n",
    "\n",
    "print(CountingResults_00000_Tinv1)\n",
    "\n",
    "CountingResults_01101_Tinv2 = QuantumCountingAlgo(rulestxt, nrTransitions=2, markedState=[0,1,1,0,1],\n",
    "                                                  r_registerLen=5, nrshots = 1000)\n",
    "\n",
    "print(CountingResults_01101_Tinv2)"
   ]
  },
  {
   "cell_type": "markdown",
   "id": "5676932b",
   "metadata": {},
   "source": [
    "### Using IBM Cloud services and the IBM Runtime Sampler primitive to run circuits on the real IBMQ Algiers QPU\n",
    "In order to run circuits on a real QPU, one must first register an account with IBM Cloud and set up a new instance with their quantum cloud service.\n",
    "Thus, one will obtain an API key and a cloud resource number (CRN) as described in the protocol."
   ]
  },
  {
   "cell_type": "code",
   "execution_count": null,
   "id": "6828f9b3",
   "metadata": {},
   "outputs": [],
   "source": [
    "apikey = \"ENTER-YOUR-IBMCLOUD-API-KEY\"\n",
    "crn = \"ENTER-YOUR-INSTANCES-CLOUD-RESOURCE-NUMBER\"\n",
    "name = \"StarProtocol\""
   ]
  },
  {
   "cell_type": "code",
   "execution_count": null,
   "id": "0cbfe669",
   "metadata": {},
   "outputs": [],
   "source": [
    "from qiskit_ibm_runtime import QiskitRuntimeService, Sampler, Session, Options\n",
    "from qiskit import transpile\n",
    "from qiskit.tools.visualization import plot_histogram\n",
    "\n",
    "# Save an IBM Cloud account on disk and give it a name.\n",
    "QiskitRuntimeService.save_account(channel=\"ibm_cloud\", token=apikey, instance=crn, name=name)"
   ]
  },
  {
   "cell_type": "code",
   "execution_count": null,
   "id": "3aede728",
   "metadata": {},
   "outputs": [],
   "source": [
    "#Load the saved data to access runtime\n",
    "service = QiskitRuntimeService(name=\"StarProtocol\")\n",
    "\"\"\"\n",
    "By setting returnCircuitOnly=True, the quantumStateTransition() function return only the quantum circuit without performing a simulation on a local simulator as shown above.\n",
    "The runtime service is used to access the ibm_algiers backend, available via the standard IBM Quantum cloud payment plan, along with the ibm_canberra device.\n",
    "The circuit for performing a single state transition from a uniform superposition state is first transpiled to match the gate set of this backend and is then sent out to the QPU.\n",
    "From here on out, the job is assigned a job_id and can be monitored in the 'Jobs' section of the corresponding instance in a browser.\n",
    "The results are plotted, with states being decoded back to binary probabilities,\n",
    "i.e. using \"00011\" instead of its integer correspondent \"3\" for a more clear evaluation of which genes are active or inactive.\n",
    "\"\"\"\n",
    "CorticalNet1Transition = quantumStateTransition(rulestxt, Tmax=1, returnCircuitOnly=True)\n",
    "backend = service.get_backend('ibm_algiers')\n",
    "CorticalNet1Transition_tr = transpile(CorticalNet1Transition, backend)\n",
    "with Session(service=service, backend = backend):\n",
    "    sampler = Sampler(options = Options(resilience_level=0))\n",
    "    job = sampler.run(circuits=CorticalNet1Transition_tr, shots=100)\n",
    "    result = job.result().quasi_dists[0].binary_probabilities()\n",
    "    \n",
    "print(result)\n",
    "plot_histogram(result)"
   ]
  },
  {
   "cell_type": "markdown",
   "id": "c6ff5ca4",
   "metadata": {},
   "source": [
    "### Optional: extra error mitigation techniques\n",
    "\"trans_qc_list\", created in the first line of the Multiple Transpilation code, contains a list of 20 different transpilations of the same algorithm. The following 3 lines of code select, among the 20 transpilations, the one containing the smallest number of CNOT gates, considered to be the most prone to noise among the basis gate of standard IBM quantum devices.\n",
    "The last line defines \"CorticalNet1Transition_tr\", the official circuit to be executed, with the optimal transpilation spotted among the different options.\n",
    "IMPORTANT: the more times the circuit is transpiled at the beginning (\"times 20\" in this example) the more optimization could be achieved, but deep circuits might take a long time to be transpiled so many times!"
   ]
  },
  {
   "cell_type": "code",
   "execution_count": null,
   "id": "bc2d8042",
   "metadata": {},
   "outputs": [],
   "source": [
    "service = QiskitRuntimeService(name=name) #Login to IBMQ runtime service\n",
    "backend = service.get_backend('ibm_algiers') #Configure the quantum device to be used\n",
    "CorticalNet1Transition = quantumStateTransition(rulestxt, Tmax=1, returnCircuitOnly=True) #Create the circuit simulating the Boolean network to be analyzed\n",
    "\n",
    "# Here starts the Multiple Transpilation code\n",
    "trans_qc_list = transpile([CorticalNet1Transition]*20, backend, optimization_level=3) #Generate 20 different transpilations for the circuit to be run\n",
    "cx_count = [circ.count_ops()['cx'] for circ in trans_qc_list] #Count the number of CNOT gates contained in each different transpilation\n",
    "best_idx = np.where(cx_count == np.min(cx_count))[0][0] #Pick the transpilation with the least amount of CNOT gates\n",
    "best_qc = trans_qc_list[best_idx] #Set given transpilation to be the circuit to be run\n",
    "CorticalNet1Transition_tr = transpile(best_qc,backend,optimization_level=0) #Create the transpiled circuit with the features evaluated above\n",
    "\n",
    "#Run everything on the cloud platform\n",
    "with Session(service=service, backend = backend):\n",
    "    sampler = Sampler(options = Options(resilience_level=0))\n",
    "    job = sampler.run(circuits=CorticalNet1Transition_tr, shots=100)\n",
    "    result = job.result().quasi_dists[0].binary_probabilities()\n",
    "\n",
    "print(result) #Retrieve and show the results\n",
    "plot_histogram(result)"
   ]
  },
  {
   "cell_type": "markdown",
   "id": "1e5e67cf",
   "metadata": {},
   "source": [
    "### Using AWS Braket to run circuits on an IonQ QPU\n",
    "Similarly to the cloud service of IBM, accessing the IonQ device requires an account with AWS Braket. The setup of this account and the associated AWS buckets is explained in the protocol.\n",
    "A state transition circuit is generated, which is manually transpiled to the set of basis gates available on the device.\n",
    "As the result returned by the task includes measurements of all 11 qubits, the probabilities of states are summed up according to the values of the qubits of interests (representing the 5-gene bitstring output of the state transition). The bitstring notation is also converted between the Qiskit and Braket notations."
   ]
  },
  {
   "cell_type": "code",
   "execution_count": null,
   "id": "75d4283d",
   "metadata": {},
   "outputs": [],
   "source": [
    "from braket.aws import AwsDevice\n",
    "nrshots = 100\n",
    "cost = 0.3+0.01*nrshots #$0.30 / task + $0.01 / shot\n",
    "print(\"NOTE: Running a task on the IonQ backend with this number of shots will create costs of $\" + '{0:.2f}'.format(cost) + \" USD!\")\n",
    "\n",
    "#Specify your account specific data here\n",
    "my_bucket = \"amazon-braket-YOUR-BUCKET-HERE\"\n",
    "my_prefix = \"YOUR-FOLDER-NAME-HERE\"\n",
    "s3_folder = (my_bucket, my_prefix)\n",
    "device = AwsDevice(\"arn:aws:braket:us-east-1::device/qpu/ionq/Harmony\") #previously \"arn:aws:braket:::device/qpu/ionq/ionQdevice\", IonQ has now also added a second larger QPU named Aria"
   ]
  },
  {
   "cell_type": "code",
   "execution_count": null,
   "id": "6da21003",
   "metadata": {},
   "outputs": [],
   "source": [
    "from functionsForProtocol import *\n",
    "import braket.circuits\n",
    "from qiskit import *\n",
    "from datetime import datetime\n",
    "import boto3\n",
    "from braket.devices import LocalSimulator\n",
    "from braket.circuits import Circuit\n",
    "import re #regex for parsing circuit to ionq"
   ]
  },
  {
   "cell_type": "code",
   "execution_count": null,
   "id": "7be7d24e",
   "metadata": {},
   "outputs": [],
   "source": [
    "GiacoCirc = synthesizeFullNetworkUpdateCircuit(rulestxt, update=\"synchronous\")\n",
    "n=5\n",
    "InitCircuit = QuantumCircuit(2*n, n)\n",
    "for q in range(5):\n",
    "    InitCircuit.h(q)\n",
    "GiacoCirc = InitCircuit.compose(GiacoCirc, list(range(0, 2 * n)), list(range(0, n)))\n",
    "\n",
    "IonQCircuit = QiskitQASM2IonQCompiler(GiacoCirc, gatenameMapping=gatenameMapping_Qiskit_IonQ)\n",
    "\n",
    "print(\"Circuit depth:\")\n",
    "print(IonQCircuit.depth) #Depth of 140 for single Giacomantonio transition circuit\n",
    "\n",
    "now = datetime.now()\n",
    "current_time = now.strftime(\"%H:%M:%S\")\n",
    "print(\"Current Time =\", current_time)\n",
    "task = device.run(IonQCircuit, s3_folder, shots=nrshots, poll_timeout_seconds=24*60*60*7)  #7 day polling time before task times out\n",
    "resultCounts = task.result().measurement_counts\n",
    "print(resultCounts)\n",
    "now = datetime.now()\n",
    "current_time = now.strftime(\"%H:%M:%S\")\n",
    "print(\"Current Time =\", current_time)\n",
    "\n",
    "#IonQ measures all 11 qubits -> Parse output back into same format as was used in Qiskit simulations\n",
    "qubitindices = [5,6,7,8,9] # Which qubits carry the outputs at t=1 for nodes in order, 0-indexed\n",
    "resultCounts_qiskitFormat = ionqDict2qiskitNotation(resultCounts, qubitindices=qubitindices, invertEndian=True)\n",
    "print(resultCounts_qiskitFormat)"
   ]
  }
 ],
 "metadata": {
  "kernelspec": {
   "display_name": "Python 3 (ipykernel)",
   "language": "python",
   "name": "python3"
  },
  "language_info": {
   "codemirror_mode": {
    "name": "ipython",
    "version": 3
   },
   "file_extension": ".py",
   "mimetype": "text/x-python",
   "name": "python",
   "nbconvert_exporter": "python",
   "pygments_lexer": "ipython3",
   "version": "3.9.13"
  }
 },
 "nbformat": 4,
 "nbformat_minor": 5
}
